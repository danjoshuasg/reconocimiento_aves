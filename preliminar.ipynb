{
 "metadata": {
  "language_info": {
   "codemirror_mode": {
    "name": "ipython",
    "version": 3
   },
   "file_extension": ".py",
   "mimetype": "text/x-python",
   "name": "python",
   "nbconvert_exporter": "python",
   "pygments_lexer": "ipython3",
   "version": "3.7.6"
  },
  "orig_nbformat": 2,
  "kernelspec": {
   "name": "python376jvsc74a57bd075384fd0ca3c2952361a90566c13d130cab84e43a6c89416ac57c7dceece1b2d",
   "display_name": "Python 3.7.6 64-bit ('base': conda)"
  }
 },
 "nbformat": 4,
 "nbformat_minor": 2,
 "cells": [
  {
   "source": [
    "### 1. INSTALANDO EL XENO-CANTO API WRAPPER\n",
    "#### Este API sirve para facilitar la descarga de los archivos de audio de la página de xeno-canto.org. Inicialmente pensado para recopilar y filtrar la data para modelos de machine learning."
   ],
   "cell_type": "markdown",
   "metadata": {}
  },
  {
   "cell_type": "code",
   "execution_count": 1,
   "metadata": {},
   "outputs": [
    {
     "output_type": "stream",
     "name": "stderr",
     "text": [
      "Cloning into 'xeno-canto-py'...\n"
     ]
    }
   ],
   "source": [
    "# Clonar el repositorio del API\n",
    "!git clone https://github.com/ntivirikin/xeno-canto-py\n"
   ]
  },
  {
   "cell_type": "code",
   "execution_count": 2,
   "metadata": {},
   "outputs": [
    {
     "output_type": "stream",
     "name": "stdout",
     "text": [
      "Collecting xeno-canto\n  Downloading xeno-canto-2.0.1.tar.gz (6.2 kB)\nBuilding wheels for collected packages: xeno-canto\n  Building wheel for xeno-canto (setup.py): started\n  Building wheel for xeno-canto (setup.py): finished with status 'done'\n  Created wheel for xeno-canto: filename=xeno_canto-2.0.1-py3-none-any.whl size=5592 sha256=85f7308f25861fcca92314e80b0c86571e1b9b494ae2fd784865fded7d2ca8cb\n  Stored in directory: c:\\users\\acer\\appdata\\local\\pip\\cache\\wheels\\31\\ad\\20\\0e32f17008f5510196376380cf6e61621fb8ed53f20896a45b\nSuccessfully built xeno-canto\nInstalling collected packages: xeno-canto\nSuccessfully installed xeno-canto-2.0.1\n"
     ]
    }
   ],
   "source": [
    "#Instalando el API\n",
    "!pip install xeno-canto"
   ]
  },
  {
   "cell_type": "code",
   "execution_count": 2,
   "metadata": {},
   "outputs": [],
   "source": [
    "import xenocanto"
   ]
  },
  {
   "cell_type": "code",
   "execution_count": 3,
   "metadata": {},
   "outputs": [
    {
     "output_type": "stream",
     "name": "stdout",
     "text": [
      "Help on module xenocanto:\n\nNAME\n    xenocanto\n\nFUNCTIONS\n    delete(filt)\n    \n    download(filt)\n        # Retrieves metadata and audio recordings\n    \n    gen_meta(path='dataset/audio/')\n        # Generate a metadata file for given library path\n    \n    listdir_nohidden(path)\n        # Retrieve all files while ignoring those that are hidden\n    \n    main()\n    \n    metadata(filt)\n        # Retrieves metadata for requested recordings in the form of a JSON file\n    \n    purge(num)\n        # Removes audio folders containing num or less than num files\n\nFILE\n    c:\\users\\acer\\anaconda3\\lib\\site-packages\\xenocanto.py\n\n\n"
     ]
    }
   ],
   "source": [
    "help(xenocanto)"
   ]
  },
  {
   "cell_type": "code",
   "execution_count": 6,
   "metadata": {},
   "outputs": [],
   "source": [
    "from xenocanto import gen_meta as gm \n",
    "from xenocanto import download as dl "
   ]
  },
  {
   "source": [
    "## DESCRIPCIÓN DE LOS DATOS\n",
    "### País: Brazil\n",
    "### Calidad de audio: A\n",
    "### Tiempo de audio: 10 s"
   ],
   "cell_type": "markdown",
   "metadata": {}
  },
  {
   "cell_type": "code",
   "execution_count": 4,
   "metadata": {},
   "outputs": [],
   "source": [
    "!xeno-canto -m cnt:brazil q:A len:10"
   ]
  },
  {
   "source": [
    "## EVALUANDO LA DATA IMPORTADA"
   ],
   "cell_type": "markdown",
   "metadata": {}
  },
  {
   "cell_type": "code",
   "execution_count": 51,
   "metadata": {},
   "outputs": [],
   "source": [
    "import pandas as pd\n",
    "import numpy as np \n",
    "import matplotlib.pyplot as mpl\n",
    "path_file = \"dataset\\metadata\\cnt_brazil&q_A&len_10\\page1.json\"\n",
    "metadata_json = pd.read_json(path_file)"
   ]
  },
  {
   "cell_type": "code",
   "execution_count": 34,
   "metadata": {},
   "outputs": [
    {
     "output_type": "execute_result",
     "data": {
      "text/plain": [
       "66"
      ]
     },
     "metadata": {},
     "execution_count": 34
    }
   ],
   "source": [
    "metadata_json.head().numSpecies[0] # Hay 66 diferentes tipos de especies"
   ]
  },
  {
   "cell_type": "code",
   "execution_count": 37,
   "metadata": {},
   "outputs": [
    {
     "output_type": "execute_result",
     "data": {
      "text/plain": [
       "['Ortalis', 'Jabiru', 'Geranoaetus', 'Rallus', 'Porzana']"
      ]
     },
     "metadata": {},
     "execution_count": 37
    }
   ],
   "source": [
    "[metadata_json.head().recordings[i].get(\"gen\") for i in range(5)]"
   ]
  },
  {
   "cell_type": "code",
   "execution_count": null,
   "metadata": {},
   "outputs": [],
   "source": [
    "def vect_donble(list):\n",
    "    doble_list=[]\n",
    "    for x in len(len(list):"
   ]
  },
  {
   "cell_type": "code",
   "execution_count": 57,
   "metadata": {},
   "outputs": [
    {
     "output_type": "error",
     "ename": "TypeError",
     "evalue": "'numpy.int64' object is not callable",
     "traceback": [
      "\u001b[1;31m---------------------------------------------------------------------------\u001b[0m",
      "\u001b[1;31mTypeError\u001b[0m                                 Traceback (most recent call last)",
      "\u001b[1;32m<ipython-input-57-1bbcf662bc78>\u001b[0m in \u001b[0;36m<module>\u001b[1;34m\u001b[0m\n\u001b[0;32m      1\u001b[0m \u001b[0mls\u001b[0m\u001b[1;33m=\u001b[0m\u001b[1;33m[\u001b[0m\u001b[0mi\u001b[0m \u001b[1;32mfor\u001b[0m \u001b[0mi\u001b[0m \u001b[1;32min\u001b[0m \u001b[0mrange\u001b[0m\u001b[1;33m(\u001b[0m\u001b[1;36m1\u001b[0m\u001b[1;33m,\u001b[0m\u001b[1;36m5\u001b[0m\u001b[1;33m)\u001b[0m\u001b[1;33m]\u001b[0m\u001b[1;33m\u001b[0m\u001b[1;33m\u001b[0m\u001b[0m\n\u001b[1;32m----> 2\u001b[1;33m \u001b[0mlen\u001b[0m\u001b[1;33m(\u001b[0m\u001b[0mls\u001b[0m\u001b[1;33m)\u001b[0m\u001b[1;33m\u001b[0m\u001b[1;33m\u001b[0m\u001b[0m\n\u001b[0m",
      "\u001b[1;31mTypeError\u001b[0m: 'numpy.int64' object is not callable"
     ]
    }
   ],
   "source": [
    "ls=[i for i in range(1,5)]\n",
    "len(ls)"
   ]
  },
  {
   "cell_type": "code",
   "execution_count": 15,
   "metadata": {},
   "outputs": [],
   "source": [
    "def unique(list): \n",
    "    unique_list = []\n",
    "    for x in list:\n",
    "        if x not in list:\n",
    "            unique_list.append(X)\n",
    "    for x in unique_list:\n",
    "        print(x)"
   ]
  },
  {
   "cell_type": "code",
   "execution_count": 24,
   "metadata": {},
   "outputs": [
    {
     "output_type": "execute_result",
     "data": {
      "text/plain": [
       "['Ortalis', 'Jabiru', 'Geranoaetus', 'Rallus', 'Porzana']"
      ]
     },
     "metadata": {},
     "execution_count": 24
    }
   ],
   "source": [
    "list[0:5]"
   ]
  },
  {
   "cell_type": "code",
   "execution_count": 18,
   "metadata": {},
   "outputs": [
    {
     "output_type": "execute_result",
     "data": {
      "text/plain": [
       "<function list.count(value, /)>"
      ]
     },
     "metadata": {},
     "execution_count": 18
    }
   ],
   "source": [
    "metadf = metadata_json\n",
    "len = metadf.numRecordings.values[0]\n",
    "list = [metadf.recordings.values[i].get('gen') for i in range(len)]\n",
    "list.count"
   ]
  },
  {
   "cell_type": "code",
   "execution_count": null,
   "metadata": {},
   "outputs": [],
   "source": []
  },
  {
   "cell_type": "code",
   "execution_count": 89,
   "metadata": {},
   "outputs": [],
   "source": [
    "def genero_aves(meta_df):\n",
    "    len = metadata_df.numRecordings.values[0]\n",
    "    for x in [metadata_df.recordings.values[i].get('gen') for i in range(len)]:\n",
    "        print(x)"
   ]
  },
  {
   "cell_type": "code",
   "execution_count": 95,
   "metadata": {},
   "outputs": [
    {
     "output_type": "stream",
     "name": "stdout",
     "text": [
      "Procnias\nProcnias\nProcnias\nProcnias\nProcnias\nProcnias\nProcnias\nProcnias\nProcnias\n"
     ]
    }
   ],
   "source": [
    "genero_aves(metadf_brazil)"
   ]
  },
  {
   "cell_type": "code",
   "execution_count": 4,
   "metadata": {},
   "outputs": [
    {
     "output_type": "execute_result",
     "data": {
      "text/plain": [
       "   numRecordings  numSpecies  page  numPages  \\\n",
       "0             27           1     1         1   \n",
       "1             27           1     1         1   \n",
       "2             27           1     1         1   \n",
       "3             27           1     1         1   \n",
       "4             27           1     1         1   \n",
       "\n",
       "                                          recordings  \n",
       "0  {'id': '563535', 'gen': 'Procnias', 'sp': 'ave...  \n",
       "1  {'id': '228599', 'gen': 'Procnias', 'sp': 'ave...  \n",
       "2  {'id': '228598', 'gen': 'Procnias', 'sp': 'ave...  \n",
       "3  {'id': '228597', 'gen': 'Procnias', 'sp': 'ave...  \n",
       "4  {'id': '197484', 'gen': 'Procnias', 'sp': 'ave...  "
      ],
      "text/html": "<div>\n<style scoped>\n    .dataframe tbody tr th:only-of-type {\n        vertical-align: middle;\n    }\n\n    .dataframe tbody tr th {\n        vertical-align: top;\n    }\n\n    .dataframe thead th {\n        text-align: right;\n    }\n</style>\n<table border=\"1\" class=\"dataframe\">\n  <thead>\n    <tr style=\"text-align: right;\">\n      <th></th>\n      <th>numRecordings</th>\n      <th>numSpecies</th>\n      <th>page</th>\n      <th>numPages</th>\n      <th>recordings</th>\n    </tr>\n  </thead>\n  <tbody>\n    <tr>\n      <th>0</th>\n      <td>27</td>\n      <td>1</td>\n      <td>1</td>\n      <td>1</td>\n      <td>{'id': '563535', 'gen': 'Procnias', 'sp': 'ave...</td>\n    </tr>\n    <tr>\n      <th>1</th>\n      <td>27</td>\n      <td>1</td>\n      <td>1</td>\n      <td>1</td>\n      <td>{'id': '228599', 'gen': 'Procnias', 'sp': 'ave...</td>\n    </tr>\n    <tr>\n      <th>2</th>\n      <td>27</td>\n      <td>1</td>\n      <td>1</td>\n      <td>1</td>\n      <td>{'id': '228598', 'gen': 'Procnias', 'sp': 'ave...</td>\n    </tr>\n    <tr>\n      <th>3</th>\n      <td>27</td>\n      <td>1</td>\n      <td>1</td>\n      <td>1</td>\n      <td>{'id': '228597', 'gen': 'Procnias', 'sp': 'ave...</td>\n    </tr>\n    <tr>\n      <th>4</th>\n      <td>27</td>\n      <td>1</td>\n      <td>1</td>\n      <td>1</td>\n      <td>{'id': '197484', 'gen': 'Procnias', 'sp': 'ave...</td>\n    </tr>\n  </tbody>\n</table>\n</div>"
     },
     "metadata": {},
     "execution_count": 4
    }
   ],
   "source": [
    "import pandas as pd\n",
    "\n",
    "file_path = \"dataset\\metadata\\Bearded&Bellbird&cnt_Venezuela&gen_Procnias\\page1.json\"\n",
    "\n",
    "metadata_df = pd.read_json(file_path) \n",
    "metadata_df.head()\n",
    "\n"
   ]
  },
  {
   "cell_type": "code",
   "execution_count": 61,
   "metadata": {},
   "outputs": [
    {
     "output_type": "execute_result",
     "data": {
      "text/plain": [
       "dict_keys(['id', 'gen', 'sp', 'ssp', 'en', 'rec', 'cnt', 'loc', 'lat', 'lng', 'alt', 'type', 'url', 'file', 'file-name', 'sono', 'lic', 'q', 'length', 'time', 'date', 'uploaded', 'also', 'rmk', 'bird-seen', 'playback-used'])"
      ]
     },
     "metadata": {},
     "execution_count": 61
    }
   ],
   "source": [
    "metadata_df.recordings[0].keys()"
   ]
  },
  {
   "cell_type": "code",
   "execution_count": 64,
   "metadata": {},
   "outputs": [],
   "source": [
    "!xeno-canto -m Bearded Bellbird q:A cnt:Venezuela"
   ]
  },
  {
   "cell_type": "code",
   "execution_count": 65,
   "metadata": {},
   "outputs": [
    {
     "output_type": "execute_result",
     "data": {
      "text/plain": [
       "   numRecordings  numSpecies  page  numPages  \\\n",
       "0             11           1     1         1   \n",
       "1             11           1     1         1   \n",
       "2             11           1     1         1   \n",
       "3             11           1     1         1   \n",
       "4             11           1     1         1   \n",
       "\n",
       "                                          recordings  \n",
       "0  {'id': '228599', 'gen': 'Procnias', 'sp': 'ave...  \n",
       "1  {'id': '228598', 'gen': 'Procnias', 'sp': 'ave...  \n",
       "2  {'id': '228597', 'gen': 'Procnias', 'sp': 'ave...  \n",
       "3  {'id': '197484', 'gen': 'Procnias', 'sp': 'ave...  \n",
       "4  {'id': '163382', 'gen': 'Procnias', 'sp': 'ave...  "
      ],
      "text/html": "<div>\n<style scoped>\n    .dataframe tbody tr th:only-of-type {\n        vertical-align: middle;\n    }\n\n    .dataframe tbody tr th {\n        vertical-align: top;\n    }\n\n    .dataframe thead th {\n        text-align: right;\n    }\n</style>\n<table border=\"1\" class=\"dataframe\">\n  <thead>\n    <tr style=\"text-align: right;\">\n      <th></th>\n      <th>numRecordings</th>\n      <th>numSpecies</th>\n      <th>page</th>\n      <th>numPages</th>\n      <th>recordings</th>\n    </tr>\n  </thead>\n  <tbody>\n    <tr>\n      <th>0</th>\n      <td>11</td>\n      <td>1</td>\n      <td>1</td>\n      <td>1</td>\n      <td>{'id': '228599', 'gen': 'Procnias', 'sp': 'ave...</td>\n    </tr>\n    <tr>\n      <th>1</th>\n      <td>11</td>\n      <td>1</td>\n      <td>1</td>\n      <td>1</td>\n      <td>{'id': '228598', 'gen': 'Procnias', 'sp': 'ave...</td>\n    </tr>\n    <tr>\n      <th>2</th>\n      <td>11</td>\n      <td>1</td>\n      <td>1</td>\n      <td>1</td>\n      <td>{'id': '228597', 'gen': 'Procnias', 'sp': 'ave...</td>\n    </tr>\n    <tr>\n      <th>3</th>\n      <td>11</td>\n      <td>1</td>\n      <td>1</td>\n      <td>1</td>\n      <td>{'id': '197484', 'gen': 'Procnias', 'sp': 'ave...</td>\n    </tr>\n    <tr>\n      <th>4</th>\n      <td>11</td>\n      <td>1</td>\n      <td>1</td>\n      <td>1</td>\n      <td>{'id': '163382', 'gen': 'Procnias', 'sp': 'ave...</td>\n    </tr>\n  </tbody>\n</table>\n</div>"
     },
     "metadata": {},
     "execution_count": 65
    }
   ],
   "source": [
    "file_path = \"dataset\\metadata\\Bearded&Bellbird&q_A&cnt_Venezuela\\page1.json\"\n",
    "\n",
    "metadata_df = pd.read_json(file_path) \n",
    "metadata_df.head()"
   ]
  },
  {
   "cell_type": "code",
   "execution_count": 63,
   "metadata": {},
   "outputs": [
    {
     "output_type": "execute_result",
     "data": {
      "text/plain": [
       "['no score',\n",
       " 'A',\n",
       " 'A',\n",
       " 'A',\n",
       " 'A',\n",
       " 'A',\n",
       " 'A',\n",
       " 'A',\n",
       " 'A',\n",
       " 'A',\n",
       " 'A',\n",
       " 'A',\n",
       " 'B',\n",
       " 'B',\n",
       " 'B',\n",
       " 'B',\n",
       " 'B',\n",
       " 'B',\n",
       " 'B',\n",
       " 'B',\n",
       " 'B',\n",
       " 'B',\n",
       " 'B',\n",
       " 'B',\n",
       " 'B',\n",
       " 'B',\n",
       " 'C']"
      ]
     },
     "metadata": {},
     "execution_count": 63
    }
   ],
   "source": [
    "# country = \"Venezuela\"\n",
    "len = metadata_df.numRecordings.values[0]\n",
    "[metadata_df.recordings.values[i].get('q') for i in range(len)]"
   ]
  },
  {
   "cell_type": "code",
   "execution_count": 54,
   "metadata": {},
   "outputs": [
    {
     "output_type": "execute_result",
     "data": {
      "text/plain": [
       "['563535',\n",
       " '228599',\n",
       " '228598',\n",
       " '228597',\n",
       " '197484',\n",
       " '163382',\n",
       " '163381',\n",
       " '27870',\n",
       " '22163',\n",
       " '22162',\n",
       " '22161',\n",
       " '22160',\n",
       " '410711',\n",
       " '410614',\n",
       " '247119',\n",
       " '247117',\n",
       " '247116',\n",
       " '247115',\n",
       " '228603',\n",
       " '228600',\n",
       " '214715',\n",
       " '214714',\n",
       " '214713',\n",
       " '130392',\n",
       " '122738',\n",
       " '8238',\n",
       " '354955']"
      ]
     },
     "metadata": {},
     "execution_count": 54
    }
   ],
   "source": [
    "[metadata_df.recordings.values[i].get('id') for i in range(len)]"
   ]
  }
 ]
}